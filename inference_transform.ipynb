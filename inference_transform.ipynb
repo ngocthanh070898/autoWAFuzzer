{
  "cells": [
    {
      "cell_type": "code",
      "execution_count": null,
      "metadata": {
        "colab": {
          "base_uri": "https://localhost:8080/"
        },
        "id": "QxGom7D32Jdw",
        "outputId": "f043cb44-74a0-499f-c99d-0d7bca8b3262"
      },
      "outputs": [
        {
          "name": "stdout",
          "output_type": "stream",
          "text": [
            "Drive already mounted at /content/drive; to attempt to forcibly remount, call drive.mount(\"/content/drive\", force_remount=True).\n"
          ]
        }
      ],
      "source": [
        "from google.colab import drive\n",
        "drive.mount('/content/drive')"
      ]
    },
    {
      "cell_type": "code",
      "execution_count": null,
      "metadata": {
        "id": "AFbMJQOA2Rct"
      },
      "outputs": [],
      "source": [
        "!python /content/drive/MyDrive/NCKH/Inference/inferenceRag.py \\\n",
        "    --lm_name /content/drive/MyDrive/NCKH/Inference/models/fine_tune_model_xss_modsecurity \\\n",
        "    --ref_lm_name /content/drive/MyDrive/NCKH/Inference/models/pretrain_model_xss \\\n",
        "    --total_nums 3 \\\n",
        "    --txt_in_len 10 \\\n",
        "    --txt_out_len 75 \\\n",
        "    --savePath /content/drive/MyDrive/NCKH/Inference/xssRag_fast.csv \\\n",
        "    --vector_db_path /content/drive/MyDrive/NCKH/vectorDB/xss"
      ]
    },
    {
      "cell_type": "code",
      "execution_count": null,
      "metadata": {
        "id": "b2P0Q4MH2RbC"
      },
      "outputs": [],
      "source": [
        "!python /content/drive/MyDrive/NCKH/Inference/transform.py \\\n",
        "    --grammar_path /content/drive/MyDrive/NCKH/Inference/grammar/bnf-xss.txt \\\n",
        "    --data_path /content/drive/MyDrive/NCKH/Inference/xssRag_fast.csv"
      ]
    }
  ],
  "metadata": {
    "accelerator": "GPU",
    "colab": {
      "gpuType": "T4",
      "provenance": []
    },
    "kernelspec": {
      "display_name": "Python 3",
      "name": "python3"
    },
    "language_info": {
      "name": "python"
    }
  },
  "nbformat": 4,
  "nbformat_minor": 0
}
