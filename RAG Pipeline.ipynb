{
 "cells": [
  {
   "cell_type": "code",
   "execution_count": 1,
   "id": "1ec9affe-f314-45aa-89b5-923394633797",
   "metadata": {},
   "outputs": [
    {
     "name": "stdout",
     "output_type": "stream",
     "text": [
      "WARNING:tensorflow:From C:\\Users\\ngoct\\.conda\\envs\\torch-gpu\\Lib\\site-packages\\tf_keras\\src\\losses.py:2976: The name tf.losses.sparse_softmax_cross_entropy is deprecated. Please use tf.compat.v1.losses.sparse_softmax_cross_entropy instead.\n",
      "\n"
     ]
    }
   ],
   "source": [
    "import faiss\n",
    "import numpy as np\n",
    "import pandas as pd\n",
    "import pickle\n",
    "from sentence_transformers import SentenceTransformer\n",
    "from transformers import AutoModelForCausalLM, AutoTokenizer, pipeline"
   ]
  },
  {
   "cell_type": "code",
   "execution_count": 2,
   "id": "559c751c-ff4b-4000-8386-a2a65b9773b3",
   "metadata": {},
   "outputs": [
    {
     "name": "stderr",
     "output_type": "stream",
     "text": [
      "C:\\Users\\ngoct\\.conda\\envs\\torch-gpu\\Lib\\site-packages\\transformers\\tokenization_utils_base.py:1601: FutureWarning: `clean_up_tokenization_spaces` was not set. It will be set to `True` by default. This behavior will be depracted in transformers v4.45, and will be then set to `False` by default. For more details check this issue: https://github.com/huggingface/transformers/issues/31884\n",
      "  warnings.warn(\n"
     ]
    }
   ],
   "source": [
    "sbert_model = SentenceTransformer(\"all-MiniLM-L6-v2\")"
   ]
  },
  {
   "cell_type": "code",
   "execution_count": 3,
   "id": "3e5ce31f-0448-4798-ba24-4dee89697ec4",
   "metadata": {},
   "outputs": [
    {
     "name": "stdout",
     "output_type": "stream",
     "text": [
      "Loaded FAISS index with 5 vectors.\n"
     ]
    }
   ],
   "source": [
    "faiss_index = faiss.read_index(\"sqli_faiss.index\")\n",
    "print(f\"Loaded FAISS index with {faiss_index.ntotal} vectors.\")"
   ]
  },
  {
   "cell_type": "code",
   "execution_count": 4,
   "id": "f76da045-e811-41e1-baac-483fc7e849bb",
   "metadata": {},
   "outputs": [],
   "source": [
    "with open(\"sqli_metadata.pkl\", \"rb\") as f:\n",
    "    metadata_dict = pickle.load(f)"
   ]
  },
  {
   "cell_type": "code",
   "execution_count": 5,
   "id": "1270412a-a1c7-4204-9242-67e1cc1adf8e",
   "metadata": {},
   "outputs": [],
   "source": [
    "def retrieve_similar_payloads(query, k=3):\n",
    "    \"\"\"\n",
    "    Given a SQLi payload query, generate its embedding using SBERT,\n",
    "    then search the FAISS index for the top-k similar payloads.\n",
    "    Retrieve the metadata for each from the metadata_dict.\n",
    "    \"\"\"\n",
    "    # Generate the embedding for the query\n",
    "    query_embedding = sbert_model.encode([query], convert_to_numpy=True).astype(np.float32)\n",
    "    \n",
    "    # Search the FAISS index for the top-k nearest neighbors\n",
    "    distances, indices = faiss_index.search(query_embedding, k)\n",
    "    \n",
    "    results = []\n",
    "    for i in range(k):\n",
    "        idx = int(indices[0][i])\n",
    "        # Retrieve metadata using the dictionary (if available)\n",
    "        record = metadata_dict.get(idx)\n",
    "        if record is not None:\n",
    "            results.append({\n",
    "                \"payload\": record[\"payload\"],\n",
    "                \"attack_type\": record[\"attack_type\"],\n",
    "                \"target_waf\": record[\"target_waf\"],\n",
    "                \"source\": record[\"source\"],\n",
    "                \"timestamp\": record[\"timestamp\"],\n",
    "                \"distance\": distances[0][i]\n",
    "            })\n",
    "    return results"
   ]
  },
  {
   "cell_type": "code",
   "execution_count": 6,
   "id": "a5b0e39c-97be-47d4-830f-d05a4b055f89",
   "metadata": {},
   "outputs": [],
   "source": [
    "# import torch\n",
    "# Load your local LLM model (update the path to your pre-trained model folder)\n",
    "llm_model_path = \"gpt_neo_1m\"  # Replace with your local folder path\n",
    "llm_tokenizer = AutoTokenizer.from_pretrained(llm_model_path)\n",
    "llm_model = AutoModelForCausalLM.from_pretrained(llm_model_path)\n",
    "# device = torch.device(\"cuda\" if torch.cuda.is_available() else \"cpu\")\n",
    "# Create a text-generation pipeline using the local model\n",
    "llm = pipeline(\"text-generation\", model=llm_model, tokenizer=llm_tokenizer, device=0)"
   ]
  },
  {
   "cell_type": "code",
   "execution_count": 7,
   "id": "c36cf433-0a9f-4868-8498-aab00153c398",
   "metadata": {},
   "outputs": [],
   "source": [
    "def generate_analysis(query, retrieved_payloads):\n",
    "    \"\"\"\n",
    "    Create a prompt containing the user query and retrieved SQLi payloads,\n",
    "    then use the local LLM to generate an analysis.\n",
    "    \"\"\"\n",
    "    prompt = f\"User query: {query}\\n\\nHere are similar SQLi payloads retrieved:\\n\"\n",
    "    for i, payload in enumerate(retrieved_payloads):\n",
    "        prompt += (f\"{i+1}. Payload: {payload['payload']}\\n\"\n",
    "                   f\"   - Attack Type: {payload['attack_type']}\\n\"\n",
    "                   f\"   - Target WAF: {payload['target_waf']}\\n\"\n",
    "                   f\"   - Source: {payload['source']}\\n\"\n",
    "                   f\"   - Timestamp: {payload['timestamp']}\\n\\n\")\n",
    "    prompt += \"Explain these SQL injection techniques and suggest mitigation strategies.\"\n",
    "    \n",
    "    # Generate text with the local LLM (adjust max_length and other parameters as needed)\n",
    "    output = llm(prompt, max_length=512, do_sample=False)\n",
    "    return output[0]['generated_text']"
   ]
  },
  {
   "cell_type": "code",
   "execution_count": 8,
   "id": "eaa888bf-7a41-4975-b2ac-c050524b7c67",
   "metadata": {},
   "outputs": [],
   "source": [
    "def rag_sqli_pipeline(user_query, k=3):\n",
    "    \"\"\"\n",
    "    Full Retrieval-Augmented Generation (RAG) pipeline:\n",
    "      1. Retrieve similar SQLi payloads from FAISS.\n",
    "      2. Generate analysis using the local LLM.\n",
    "    \"\"\"\n",
    "    # Retrieve similar payloads\n",
    "    retrieved_payloads = retrieve_similar_payloads(user_query, k)\n",
    "    \n",
    "    # Generate analysis using the retrieved payloads\n",
    "    analysis = generate_analysis(user_query, retrieved_payloads)\n",
    "    \n",
    "    # Display the results\n",
    "    print(\"\\n🔍 Retrieved SQLi Payloads:\")\n",
    "    for payload in retrieved_payloads:\n",
    "        print(f\"- {payload['payload']} (Attack: {payload['attack_type']}, Distance: {payload['distance']:.4f})\")\n",
    "    \n",
    "    print(\"\\n🤖 LLM Analysis:\")\n",
    "    print(analysis)\n",
    "    \n",
    "    return retrieved_payloads, analysis"
   ]
  },
  {
   "cell_type": "code",
   "execution_count": 9,
   "id": "247ad613-d189-4155-b127-ed2d0e0d3937",
   "metadata": {},
   "outputs": [
    {
     "name": "stderr",
     "output_type": "stream",
     "text": [
      "C:\\Users\\ngoct\\.conda\\envs\\torch-gpu\\Lib\\site-packages\\transformers\\models\\bert\\modeling_bert.py:439: UserWarning: 1Torch was not compiled with flash attention. (Triggered internally at C:\\cb\\pytorch_1000000000000\\work\\aten\\src\\ATen\\native\\transformers\\cuda\\sdp_utils.cpp:555.)\n",
      "  attn_output = torch.nn.functional.scaled_dot_product_attention(\n",
      "Truncation was not explicitly activated but `max_length` is provided a specific value, please use `truncation=True` to explicitly truncate examples to max length. Defaulting to 'longest_first' truncation strategy. If you encode pairs of sequences (GLUE-style) with the tokenizer you can select this strategy more precisely by providing a specific strategy to `truncation`.\n"
     ]
    },
    {
     "name": "stdout",
     "output_type": "stream",
     "text": [
      "\n",
      "🔍 Retrieved SQLi Payloads:\n",
      "- 1 UNION SELECT username, password FROM users -- (Attack: Data Extraction, Distance: 0.0000)\n",
      "- SELECT * FROM users WHERE id='1' -- (Attack: Enumeration, Distance: 0.9033)\n",
      "- ' UNION SELECT email, credit_card FROM payments -- (Attack: Data Extraction, Distance: 1.0425)\n",
      "\n",
      "🤖 LLM Analysis:\n",
      "User query: 1 UNION SELECT username, password FROM users --\n",
      "\n",
      "Here are similar SQLi payloads retrieved:\n",
      "1. Payload: 1 UNION SELECT username, password FROM users --\n",
      "   - Attack Type: Data Extraction\n",
      "   - Target WAF: Cloudflare\n",
      "   - Source: Online Source\n",
      "   - Timestamp: 2025-03-03\n",
      "\n",
      "2. Payload: SELECT * FROM users WHERE id='1' --\n",
      "   - Attack Type: Enumeration\n",
      "   - Target WAF: Imperva\n",
      "   - Source: Manual\n",
      "   - Timestamp: 2025-03-01\n",
      "\n",
      "3. Payload: ' UNION SELECT email, credit_card FROM payments --\n",
      "   - Attack Type: Data Extraction\n",
      "   - Target WAF: AWS WAF\n",
      "   - Source: Online Source\n",
      "   - Timestamp: 2025-03-02\n",
      "\n",
      "Explain these SQL injection techniques and suggest mitigation strategies.%0b%270\n"
     ]
    }
   ],
   "source": [
    "user_query = \"1 UNION SELECT username, password FROM users --\"\n",
    "    \n",
    "# Run the RAG pipeline\n",
    "retrieved_payloads, analysis = rag_sqli_pipeline(user_query, k=3)"
   ]
  },
  {
   "cell_type": "code",
   "execution_count": null,
   "id": "d35e949c-a0a2-4a0f-a891-d768a91055ce",
   "metadata": {},
   "outputs": [],
   "source": []
  }
 ],
 "metadata": {
  "kernelspec": {
   "display_name": "Python 3 (ipykernel)",
   "language": "python",
   "name": "python3"
  },
  "language_info": {
   "codemirror_mode": {
    "name": "ipython",
    "version": 3
   },
   "file_extension": ".py",
   "mimetype": "text/x-python",
   "name": "python",
   "nbconvert_exporter": "python",
   "pygments_lexer": "ipython3",
   "version": "3.11.9"
  }
 },
 "nbformat": 4,
 "nbformat_minor": 5
}
