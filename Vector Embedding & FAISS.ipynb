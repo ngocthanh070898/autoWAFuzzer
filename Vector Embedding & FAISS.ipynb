{
 "cells": [
  {
   "cell_type": "code",
   "execution_count": 2,
   "id": "45efdcc1-d96d-424c-8866-d1258dab7c4e",
   "metadata": {},
   "outputs": [
    {
     "name": "stdout",
     "output_type": "stream",
     "text": [
      "WARNING:tensorflow:From C:\\Users\\ngoct\\.conda\\envs\\torch-gpu\\Lib\\site-packages\\tf_keras\\src\\losses.py:2976: The name tf.losses.sparse_softmax_cross_entropy is deprecated. Please use tf.compat.v1.losses.sparse_softmax_cross_entropy instead.\n",
      "\n"
     ]
    }
   ],
   "source": [
    "from sentence_transformers import SentenceTransformer"
   ]
  },
  {
   "cell_type": "code",
   "execution_count": 3,
   "id": "989fe7dc-e148-4bfb-87bb-fff82e26ec5c",
   "metadata": {},
   "outputs": [
    {
     "name": "stderr",
     "output_type": "stream",
     "text": [
      "C:\\Users\\ngoct\\.conda\\envs\\torch-gpu\\Lib\\site-packages\\transformers\\tokenization_utils_base.py:1601: FutureWarning: `clean_up_tokenization_spaces` was not set. It will be set to `True` by default. This behavior will be depracted in transformers v4.45, and will be then set to `False` by default. For more details check this issue: https://github.com/huggingface/transformers/issues/31884\n",
      "  warnings.warn(\n"
     ]
    }
   ],
   "source": [
    "model = SentenceTransformer(\"all-MiniLM-L6-v2\")"
   ]
  },
  {
   "cell_type": "code",
   "execution_count": null,
   "id": "f9502cfd-b3d8-4449-bf70-e405fdebd028",
   "metadata": {},
   "outputs": [],
   "source": [
    "# import pandas as pd\n",
    "\n",
    "# # Load CSV file\n",
    "# csv_path = \"sqli_data.csv\"  # Change to your actual file path\n",
    "# df = pd.read_csv(csv_path)\n",
    "\n",
    "# # Ensure correct column names\n",
    "# print(df.head())  # Check if column names match expectations\n",
    "\n",
    "# # Convert DataFrame to a list of dictionaries\n",
    "# sqli_payloads = df.to_dict(orient=\"records\")  # Each row as a dictionary\n",
    "# print(f\"Loaded {len(sqli_payloads)} SQLi payloads.\")"
   ]
  },
  {
   "cell_type": "code",
   "execution_count": 13,
   "id": "7bf7a243-dcc8-4a72-8c88-7b2f7e64e7a0",
   "metadata": {},
   "outputs": [],
   "source": [
    "sqli_payloads = [\n",
    "    {\"payload\": \"' OR 1=1 --\", \"attack_type\": \"Authentication Bypass\", \"target_waf\": \"ModSecurity\", \"source\": \"Attack Grammar\", \"timestamp\": \"2025-03-04\"},\n",
    "    {\"payload\": \"1 UNION SELECT username, password FROM users --\", \"attack_type\": \"Data Extraction\", \"target_waf\": \"Cloudflare\", \"source\": \"Online Source\", \"timestamp\": \"2025-03-03\"},\n",
    "    {\"payload\": \"' UNION SELECT email, credit_card FROM payments --\", \"attack_type\": \"Data Extraction\", \"target_waf\": \"AWS WAF\", \"source\": \"Online Source\", \"timestamp\": \"2025-03-02\"},\n",
    "    {\"payload\": \"SELECT * FROM users WHERE id='1' --\", \"attack_type\": \"Enumeration\", \"target_waf\": \"Imperva\", \"source\": \"Manual\", \"timestamp\": \"2025-03-01\"},\n",
    "    {\"payload\": \"DROP TABLE users; --\", \"attack_type\": \"Destructive Attack\", \"target_waf\": \"Akamai\", \"source\": \"Exploit DB\", \"timestamp\": \"2025-02-28\"},\n",
    "]\n",
    "\n",
    "payload_texts = [entry[\"payload\"] for entry in sqli_payloads]"
   ]
  },
  {
   "cell_type": "code",
   "execution_count": 14,
   "id": "6a169ab8-94e2-42df-9ace-8be44a153d72",
   "metadata": {},
   "outputs": [
    {
     "name": "stdout",
     "output_type": "stream",
     "text": [
      "Generated 5 embeddings with dimension 384\n"
     ]
    }
   ],
   "source": [
    "embeddings = model.encode(payload_texts, convert_to_numpy=True).astype(np.float32)\n",
    "\n",
    "print(f\"Generated {embeddings.shape[0]} embeddings with dimension {embeddings.shape[1]}\")"
   ]
  },
  {
   "cell_type": "code",
   "execution_count": 1,
   "id": "b81baf75-771e-403a-9b15-5fd14edef660",
   "metadata": {},
   "outputs": [],
   "source": [
    "import faiss"
   ]
  },
  {
   "cell_type": "code",
   "execution_count": 15,
   "id": "5247cade-524f-44ae-8313-3d005d83cc0b",
   "metadata": {},
   "outputs": [],
   "source": [
    "# Create FAISS IVF-HNSW Index\n",
    "embedding_dim = embeddings.shape[1]\n",
    "num_clusters = int(np.sqrt(len(sqli_payloads)))\n",
    "quantizer = faiss.IndexHNSWFlat(embedding_dim, 32)\n",
    "index = faiss.IndexIVFFlat(quantizer, embedding_dim, num_clusters, faiss.METRIC_L2)"
   ]
  },
  {
   "cell_type": "code",
   "execution_count": 16,
   "id": "bf4c7934-3d75-4414-8a6f-06bf75e6aac4",
   "metadata": {},
   "outputs": [
    {
     "name": "stdout",
     "output_type": "stream",
     "text": [
      "FAISS index contains 5 vectors\n"
     ]
    }
   ],
   "source": [
    "# Train the FAISS index\n",
    "index.train(embeddings)\n",
    "\n",
    "# Assign metadata IDs and store embeddings\n",
    "ids = np.arange(len(sqli_payloads))  # Generate unique IDs\n",
    "index.add_with_ids(embeddings, ids)\n",
    "\n",
    "# Store metadata in a dictionary (key = FAISS ID)\n",
    "metadata_dict = {i: sqli_payloads[i] for i in ids}\n",
    "\n",
    "print(f\"FAISS index contains {index.ntotal} vectors\")"
   ]
  },
  {
   "cell_type": "code",
   "execution_count": 17,
   "id": "78259a28-f0db-4a54-aa84-a634e0b952f3",
   "metadata": {},
   "outputs": [],
   "source": [
    "#Save index\n",
    "faiss.write_index(index, \"sqli_faiss.index\")"
   ]
  },
  {
   "cell_type": "code",
   "execution_count": 18,
   "id": "6a56e348-4b53-46d7-84c3-ccfca931e11b",
   "metadata": {},
   "outputs": [],
   "source": [
    "#Load index\n",
    "index = faiss.read_index(\"sqli_faiss.index\")"
   ]
  },
  {
   "cell_type": "code",
   "execution_count": 19,
   "id": "6e7f9f04-5dd0-4d65-9776-5cc2490f912b",
   "metadata": {},
   "outputs": [
    {
     "name": "stdout",
     "output_type": "stream",
     "text": [
      "\n",
      "Most similar payloads with metadata:\n",
      "1. Payload: 1 UNION SELECT username, password FROM users --\n",
      "   Attack Type: Data Extraction\n",
      "   Target WAF: Cloudflare\n",
      "   Collection Source: Online Source\n",
      "   Timestamp: 2025-03-03\n",
      "   Distance: 0.0000\n",
      "\n",
      "2. Payload: SELECT * FROM users WHERE id='1' --\n",
      "   Attack Type: Enumeration\n",
      "   Target WAF: Imperva\n",
      "   Collection Source: Manual\n",
      "   Timestamp: 2025-03-01\n",
      "   Distance: 0.9033\n",
      "\n",
      "3. Payload: ' UNION SELECT email, credit_card FROM payments --\n",
      "   Attack Type: Data Extraction\n",
      "   Target WAF: AWS WAF\n",
      "   Collection Source: Online Source\n",
      "   Timestamp: 2025-03-02\n",
      "   Distance: 1.0425\n",
      "\n"
     ]
    }
   ],
   "source": [
    "new_payload = [\"1 UNION SELECT username, password FROM users --\"]\n",
    "new_embedding = model.encode(new_payload, convert_to_numpy=True).astype(np.float32)\n",
    "\n",
    "# Search in FAISS\n",
    "k = 3  # Number of nearest neighbors\n",
    "distances, indices = index.search(new_embedding, k)\n",
    "\n",
    "print(\"\\nMost similar payloads with metadata:\")\n",
    "for i in range(k):\n",
    "    idx = indices[0][i]  # FAISS index ID\n",
    "    metadata = metadata_dict[idx]  # Retrieve metadata\n",
    "\n",
    "    print(f\"{i+1}. Payload: {metadata['payload']}\")\n",
    "    print(f\"   Attack Type: {metadata['attack_type']}\")\n",
    "    print(f\"   Target WAF: {metadata['target_waf']}\")\n",
    "    print(f\"   Collection Source: {metadata['source']}\")\n",
    "    print(f\"   Timestamp: {metadata['timestamp']}\")\n",
    "    print(f\"   Distance: {distances[0][i]:.4f}\\n\")"
   ]
  },
  {
   "cell_type": "code",
   "execution_count": null,
   "id": "654c9b71-37c7-4fb0-81bf-3a46a5a8c2c5",
   "metadata": {},
   "outputs": [],
   "source": []
  }
 ],
 "metadata": {
  "kernelspec": {
   "display_name": "Python 3 (ipykernel)",
   "language": "python",
   "name": "python3"
  },
  "language_info": {
   "codemirror_mode": {
    "name": "ipython",
    "version": 3
   },
   "file_extension": ".py",
   "mimetype": "text/x-python",
   "name": "python",
   "nbconvert_exporter": "python",
   "pygments_lexer": "ipython3",
   "version": "3.11.9"
  }
 },
 "nbformat": 4,
 "nbformat_minor": 5
}
