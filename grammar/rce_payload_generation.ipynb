{
 "cells": [
  {
   "cell_type": "code",
   "execution_count": 1,
   "metadata": {},
   "outputs": [],
   "source": [
    "import re\n",
    "import json\n",
    "from itertools import product\n",
    "from collections import OrderedDict"
   ]
  },
  {
   "cell_type": "code",
   "execution_count": 2,
   "metadata": {
    "id": "iIqakVF1ebsr"
   },
   "outputs": [],
   "source": [
    "# Use an unambiguous delimiter to mark token boundaries.\n",
    "DELIM = \"\\x1F\"\n",
    "\n",
    "# Initialize vocabulary exactly as in the original generator.\n",
    "vocab = OrderedDict({\n",
    "    \"<pad>\": 0,\n",
    "    \"<unk>\": 1,\n",
    "    \"<bos>\": 2,\n",
    "    \"<eos>\": 3\n",
    "})"
   ]
  },
  {
   "cell_type": "code",
   "execution_count": 3,
   "metadata": {
    "id": "9WS-I-sVX9Rn"
   },
   "outputs": [],
   "source": [
    "def load_grammar(filename):\n",
    "    \"\"\"\n",
    "    Load the grammar from file.\n",
    "    Each rule is split on '|' after removing a trailing ';' if present.\n",
    "    Supports both \":\" and \":=\" as rule separators.\n",
    "    \"\"\"\n",
    "    grammar = {}\n",
    "    current_rule = None\n",
    "    with open(filename, 'r') as f:\n",
    "        for line in f:\n",
    "            line = line.strip()\n",
    "            if not line or line.startswith(\"//\"):\n",
    "                continue\n",
    "            if line.endswith(\";\"):\n",
    "                line = line[:-1]\n",
    "            # Match both \":\" and \":=\" as separators.\n",
    "            match = re.match(r\"^([a-zA-Z0-9_]+)\\s*(?::=|:)\\s*(.*)$\", line)\n",
    "            if match:\n",
    "                current_rule = match.group(1)\n",
    "                grammar[current_rule] = [match.group(2).strip()]\n",
    "            elif current_rule:\n",
    "                grammar[current_rule][-1] += \" \" + line.strip()\n",
    "    # Now split each rule’s alternatives.\n",
    "    for rule in grammar:\n",
    "        alternatives = []\n",
    "        for alt in grammar[rule]:\n",
    "            alternatives.extend([a.strip() for a in alt.split(\"|\")])\n",
    "        grammar[rule] = alternatives\n",
    "    return grammar\n",
    "\n",
    "def tokenize(production):\n",
    "    \"\"\"\n",
    "    Splits a production string into tokens while preserving quoted strings.\n",
    "    For example:  \"'ps' opSem 'ls -al'\"  →  [\"'ps'\", \"opSem\", \"'ls -al'\"]\n",
    "    \"\"\"\n",
    "    return re.findall(r\"'[^']*'|\\\"[^\\\"]*\\\"|\\S+\", production)\n",
    "\n",
    "def unquote(token):\n",
    "    \"\"\"Remove surrounding quotes, if any.\"\"\"\n",
    "    if (token.startswith(\"'\") and token.endswith(\"'\")) or (token.startswith('\"') and token.endswith('\"')):\n",
    "        return token[1:-1]\n",
    "    return token\n",
    "\n",
    "def expand_all(rule, grammar):\n",
    "    \"\"\"\n",
    "    Recursively expands a given rule.\n",
    "    Instead of concatenating tokens with an empty string,\n",
    "    we return a list of token lists.\n",
    "    \"\"\"\n",
    "    if rule not in grammar:\n",
    "        token = unquote(rule)\n",
    "        if token not in vocab:\n",
    "            vocab[token] = len(vocab)\n",
    "        # Return a list with a single token list.\n",
    "        return [[token]]\n",
    "    \n",
    "    results = []\n",
    "    for production in grammar[rule]:\n",
    "        tokens = tokenize(production)\n",
    "        # For each token in the production, recursively expand.\n",
    "        # Each expansion is a list of token lists.\n",
    "        expanded_tokens = [expand_all(tok, grammar) for tok in tokens]\n",
    "        # Use Cartesian product to combine expansions from each token.\n",
    "        for prod in product(*expanded_tokens):\n",
    "            # Each prod is a tuple of token lists; flatten them.\n",
    "            combined = []\n",
    "            for token_list in prod:\n",
    "                combined.extend(token_list)\n",
    "            results.append(combined)\n",
    "    return results\n",
    "\n",
    "def generate_payloads(grammar, start_rule):\n",
    "    \"\"\"\n",
    "    Expand the grammar from the start_rule and join token lists with DELIM.\n",
    "    \"\"\"\n",
    "    token_lists = expand_all(start_rule, grammar)\n",
    "    # Now join each token list with the delimiter.\n",
    "    payloads = [DELIM.join(token_list) for token_list in token_lists]\n",
    "    return payloads"
   ]
  },
  {
   "cell_type": "code",
   "execution_count": 4,
   "metadata": {
    "id": "Gun4Su-EYRBc"
   },
   "outputs": [
    {
     "name": "stdout",
     "output_type": "stream",
     "text": [
      "Total unique payloads: 37302\n"
     ]
    }
   ],
   "source": [
    "# Load your RCE grammar file (adjust the path as needed)\n",
    "grammar = load_grammar(\"grammar/RCE.txt\")\n",
    "all_payloads = generate_payloads(grammar, \"start\")\n",
    "unique_payloads = sorted(set(all_payloads))\n",
    "print(\"Total unique payloads:\", len(unique_payloads))  # Expect 37302\n",
    "\n",
    "# Optionally, write payloads and vocabulary to files.\n",
    "with open(\"rce.txt\", \"w\") as f:\n",
    "    for payload in unique_payloads:\n",
    "        f.write(payload + \"\\n\")\n",
    "\n",
    "with open(\"vocab.json\", \"w\") as f:\n",
    "    json.dump(vocab, f, indent=2)"
   ]
  },
  {
   "cell_type": "code",
   "execution_count": null,
   "metadata": {},
   "outputs": [],
   "source": []
  }
 ],
 "metadata": {
  "colab": {
   "provenance": []
  },
  "kernelspec": {
   "display_name": "Python 3 (ipykernel)",
   "language": "python",
   "name": "python3"
  },
  "language_info": {
   "codemirror_mode": {
    "name": "ipython",
    "version": 3
   },
   "file_extension": ".py",
   "mimetype": "text/x-python",
   "name": "python",
   "nbconvert_exporter": "python",
   "pygments_lexer": "ipython3",
   "version": "3.11.9"
  }
 },
 "nbformat": 4,
 "nbformat_minor": 4
}
