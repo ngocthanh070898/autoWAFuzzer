{
 "cells": [
  {
   "cell_type": "code",
   "execution_count": 1,
   "metadata": {},
   "outputs": [],
   "source": [
    "import json\n",
    "import itertools\n",
    "import random\n",
    "import re"
   ]
  },
  {
   "cell_type": "code",
   "execution_count": 2,
   "metadata": {
    "id": "iIqakVF1ebsr"
   },
   "outputs": [],
   "source": [
    "vocab = {\n",
    "    \"<pad>\": 0,\n",
    "    \"<unk>\": 1,\n",
    "    \"<bos>\": 2,\n",
    "    \"<eos>\": 3\n",
    "}"
   ]
  },
  {
   "cell_type": "code",
   "execution_count": 3,
   "metadata": {
    "id": "9WS-I-sVX9Rn"
   },
   "outputs": [],
   "source": [
    "idx = 0 # starting vocab id\n",
    "\n",
    "def load_grammar_from_file(filename):\n",
    "    grammar = {}\n",
    "    current_rule = None\n",
    "\n",
    "    with open(filename, 'r') as file:\n",
    "        for line in file:\n",
    "            line = line.strip()\n",
    "            if not line or line.startswith('//'):  # Skip comments and empty lines\n",
    "                continue\n",
    "            # Remove the trailing semicolon or other ending character\n",
    "            line = line[:-1]\n",
    "            # Check for a rule definition\n",
    "            rule_match = re.match(r'([a-zA-Z0-9_]+)\\s*:\\s*(.*)', line)\n",
    "            if rule_match:\n",
    "                current_rule = rule_match.group(1)\n",
    "                expansions = rule_match.group(2).split('|')  # Split different productions\n",
    "                grammar[current_rule] = [expansion.strip() for expansion in expansions]\n",
    "            # Continuation of rules on the next line (for multiline rules)\n",
    "            elif current_rule:\n",
    "                expansions = line.split('|')\n",
    "                grammar[current_rule].extend([expansion.strip() for expansion in expansions])\n",
    "\n",
    "    return grammar\n",
    "\n",
    "def remove_first_last_quote(input_string):\n",
    "    if input_string.startswith(\"'\") and input_string.endswith(\"'\"):\n",
    "        return input_string[1:-1]\n",
    "    return input_string\n",
    "\n",
    "def replace_escaped_quote(input_string):\n",
    "    if input_string == \"\\\\'\":\n",
    "        return \"'\"\n",
    "    return input_string\n",
    "\n",
    "def generate(rule):\n",
    "    if rule in grammar:\n",
    "        expansion = random.choice(grammar[rule]).split()\n",
    "\n",
    "        original_payload = []\n",
    "        tokenized_payload = []\n",
    "\n",
    "        for token in expansion:\n",
    "            original, token_ids = generate(token)\n",
    "            original_payload.append(original)\n",
    "            tokenized_payload.extend(token_ids)\n",
    "\n",
    "        return ''.join(original_payload), tokenized_payload\n",
    "    else:\n",
    "        processed_rule = replace_escaped_quote(remove_first_last_quote(rule))\n",
    "        if processed_rule not in vocab:\n",
    "            vocab[processed_rule] = len(vocab)\n",
    "        return processed_rule, [vocab[processed_rule]]\n",
    "\n",
    "# Load the RCE grammar\n",
    "grammar = load_grammar_from_file('grammar/XSS.txt')"
   ]
  },
  {
   "cell_type": "code",
   "execution_count": 4,
   "metadata": {
    "id": "krKytvjYD5G_"
   },
   "outputs": [],
   "source": [
    "def token_ids_to_original_payload(tokenized_payload, vocab):\n",
    "    id_to_token = {v: k for k, v in vocab.items()}\n",
    "    original_payload = [id_to_token[token_id] for token_id in tokenized_payload]\n",
    "    return ''.join(original_payload)\n",
    "\n",
    "# Quick check to verify tokenization consistency\n",
    "for i in range(100):\n",
    "    rce = generate('start')\n",
    "    if rce[0] != token_ids_to_original_payload(rce[1], vocab):\n",
    "        print(\"Mismatch at iteration:\", i)"
   ]
  },
  {
   "cell_type": "code",
   "execution_count": 5,
   "metadata": {
    "colab": {
     "base_uri": "https://localhost:8080/"
    },
    "id": "mLsGk6NLnJ65",
    "outputId": "534e1c57-87ac-4057-bf7a-9be93a4e2c1b"
   },
   "outputs": [
    {
     "name": "stdout",
     "output_type": "stream",
     "text": [
      "{'<pad>': 0, '<unk>': 1, '<bos>': 2, '<eos>': 3, '<': 4, 'input': 5, '/+/': 6, 'onfocus': 7, '+': 8, '=': 9, '%09': 10, 'alertScript': 11, '%0dx': 12, '/': 13, 'XSS': 14, 'audio': 15, 'src': 16, 'type': 17, 'img': 18, 'onload': 19, '%0a': 20, 'onerror': 21, 'iframe2': 22, 'contenteditable': 23, 'onclick': 24, 'embed': 25, \"'\\\\u0061lert(XSS)\": 26, '>': 27, '%0d': 28, 'onauxclick': 29, 'form': 30, 'tabindex': 31, '1': 32, 'submit': 33, 'action': 34, 'alert(XSS)': 35, 'onsubmit': 36, '\"': 37, '\\\\u0061lert(XSS)': 38, 'jav%0Dascript%26colon%3B\\\\u0061lert(XSS)': 39, 'onblur': 40, 'jav%09ascript%26colon%3B\\\\u0061lert%26%23x28;XSS%26%23x29;': 41, 'button': 42, 'jav\\\\u0061script%26colon;alert(XSS)': 43, 'details': 44, 'ontoggle': 45, '=terDQuote': 46, 'javascript%26%2300058;alert(XSS)': 47, 'jav%0Dascript%26colon%3B\\\\u0061lert%26%23x28;XSS%26%23x29;': 48, 'jav%26Tab%3Bascript%26colon%3B\\\\u0061lert%26%23x28;XSS%26%23x29;': 49, 'a': 50, 'href': 51, 'jav%0Dascript:\\\\u0061lert(XSS)': 52, 'object': 53, 'data': 54, 'jav%09ascript%26colon%3B\\\\u0061lert(XSS)': 55, 'big': 56, 'onpointerenter': 57, 'script': 58, 'java%26Tab;script%26colon;alert(XSS)': 59, 'jav%09ascript%26colon;alert(XSS)': 60, 'onchange': 61, 'svg': 62, 'set': 63, 'onpointerout': 64, 'jav%26Tab%3Bascript%26colon%3B\\\\u0061lert(XSS)': 65, 'formaction': 66, 'body': 67, 'video': 68, 'onbeforecut': 69, 'iframe': 70, 'onselect': 71, 'menu': 72, 'onmouseout': 73, 'map': 74, 'onmousedown': 75}\n"
     ]
    }
   ],
   "source": [
    "print(vocab)"
   ]
  },
  {
   "cell_type": "code",
   "execution_count": 6,
   "metadata": {
    "id": "Gun4Su-EYRBc"
   },
   "outputs": [],
   "source": [
    "output = []\n",
    "tokenized_output = []\n",
    "num_payloads = 100000\n",
    "xss_set = set()\n",
    "\n",
    "for i in range(num_payloads):\n",
    "    while True:\n",
    "        xss = generate('start')\n",
    "        if xss[0] not in xss_set:\n",
    "            xss_set.add(xss[0])\n",
    "            tokenized_output.append(xss[1])\n",
    "            output.append(f\"{xss[0]}\\n\")\n",
    "            if xss[0] != token_ids_to_original_payload(xss[1], vocab):\n",
    "                print(\"Mismatch at payload:\", i)\n",
    "            break\n",
    "\n",
    "# Write all generated payloads to file\n",
    "with open('xss.txt', 'w') as f:\n",
    "    f.writelines(output)\n",
    "with open('tokenized_xss.json', 'w') as f:\n",
    "    json.dump(tokenized_output, f)"
   ]
  },
  {
   "cell_type": "code",
   "execution_count": 7,
   "metadata": {},
   "outputs": [],
   "source": [
    "with open('vocab.json', 'w') as json_file:\n",
    "    json.dump(vocab, json_file, indent=4)"
   ]
  }
 ],
 "metadata": {
  "colab": {
   "provenance": []
  },
  "kernelspec": {
   "display_name": "Python 3 (ipykernel)",
   "language": "python",
   "name": "python3"
  },
  "language_info": {
   "codemirror_mode": {
    "name": "ipython",
    "version": 3
   },
   "file_extension": ".py",
   "mimetype": "text/x-python",
   "name": "python",
   "nbconvert_exporter": "python",
   "pygments_lexer": "ipython3",
   "version": "3.11.9"
  }
 },
 "nbformat": 4,
 "nbformat_minor": 4
}
